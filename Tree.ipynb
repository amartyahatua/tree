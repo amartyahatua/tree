{
 "cells": [
  {
   "cell_type": "markdown",
   "metadata": {},
   "source": [
    "<b>Tree:</b>\n",
    "\n",
    "A tree is a nonlinear data structure. A tree has following general properties \n",
    "\n",
    "<ol>\n",
    "<li>One node is distinguished as a root</li>\n",
    "<li>Every node (exclude a root) is connected by an edge to exactly one parent node and zero or multiple child nodes</li>\n",
    "</ol>\n",
    "\n",
    "<b>Create Node</b>\n",
    "<ol>\n",
    "<li>A node consists of one value or key and two pointer to child nodes</li>\n",
    "<li>A value of node is assigned to the key and two pointers are initialized to None, as they are not pointing any node at the beginning</li>\n",
    "</ol>"
   ]
  },
  {
   "cell_type": "code",
   "execution_count": 1,
   "metadata": {},
   "outputs": [],
   "source": [
    "class Node():\n",
    "    def __init__(self, val):\n",
    "        self.val = val\n",
    "        self.left = None \n",
    "        self.right = None"
   ]
  },
  {
   "cell_type": "markdown",
   "metadata": {},
   "source": [
    "<b>Insertion</b>\n",
    "<ol>\n",
    "<li>Create a new node</li>\n",
    "<li>Find the parent node of the new node</li>\n",
    "<li>Determine position (left child or right child)</li>\n",
    "<li>Insert the node</li>\n",
    "</ol>"
   ]
  },
  {
   "cell_type": "code",
   "execution_count": 2,
   "metadata": {},
   "outputs": [],
   "source": [
    "node1 = Node('A')\n",
    "node2 = Node('B')\n",
    "node3 = Node('C')\n",
    "node4 = Node('D')\n",
    "node5 = Node('E')"
   ]
  },
  {
   "cell_type": "code",
   "execution_count": 3,
   "metadata": {},
   "outputs": [],
   "source": [
    "node1.left = node2\n",
    "node1.right = node3\n",
    "node3.left = node4\n",
    "node3.right = node5"
   ]
  },
  {
   "cell_type": "markdown",
   "metadata": {},
   "source": [
    "<ul>\n",
    "<li>Insert a new node (F) as the left child of node (E) </li>\n",
    "<li>Insert a new node (G) as the right child of node (B)</li>\n",
    "</ul>"
   ]
  },
  {
   "cell_type": "code",
   "execution_count": 4,
   "metadata": {},
   "outputs": [],
   "source": [
    "node6 = Node('F')\n",
    "node7 = Node('G')\n",
    "node5.left = node6\n",
    "node2.right = node7"
   ]
  },
  {
   "cell_type": "markdown",
   "metadata": {},
   "source": [
    "<b> Traversal </b>\n",
    "<ol>\n",
    "<li>Depth-first traversal\n",
    "    <ul>\n",
    "    <li>Inorder traversal</li>\n",
    "    <li>Preorder traversal</li>\n",
    "    <li>Postorder traversal</li>\n",
    "    </ul>\n",
    "<li>Breadth-first traversal</li>\n",
    "</ol>"
   ]
  },
  {
   "cell_type": "code",
   "execution_count": 8,
   "metadata": {},
   "outputs": [],
   "source": [
    "class Traversal():\n",
    "    def inorder(self, root):\n",
    "        if(root):\n",
    "            self.inorder(root.left)\n",
    "            print(str(root.val)+\" \", end = '')\n",
    "            self.inorder(root.right)\n",
    "            \n",
    "    def preorder(self, root):\n",
    "        if(root):\n",
    "            print(str(root.val)+\" \", end = '')\n",
    "            self.inorder(root.left)\n",
    "            self.inorder(root.right)\n",
    "            \n",
    "    def postorder(self, root):\n",
    "        if(root):\n",
    "            self.inorder(root.left)\n",
    "            self.inorder(root.right)\n",
    "            print(str(root.val)+\" \", end = '')\n",
    "\n",
    "    \n",
    "    "
   ]
  },
  {
   "cell_type": "code",
   "execution_count": 9,
   "metadata": {},
   "outputs": [
    {
     "name": "stdout",
     "output_type": "stream",
     "text": [
      "Inorder traversal\n",
      "B G A D C F E \n",
      "Preorder traversal\n",
      "A B G D C F E \n",
      "Postorder traversal\n",
      "B G D C F E A "
     ]
    }
   ],
   "source": [
    "traversal = Traversal()\n",
    "print(\"Inorder traversal\")\n",
    "traversal.inorder(node1)\n",
    "print(\"\\nPreorder traversal\")\n",
    "traversal.preorder(node1)\n",
    "print(\"\\nPostorder traversal\")\n",
    "traversal.postorder(node1)"
   ]
  },
  {
   "cell_type": "markdown",
   "metadata": {},
   "source": [
    "<b>Binary Search Tree (BST)</b>\n",
    "\n",
    "BST is a binary tree data structure which has the following properties:\n",
    "<ol>\n",
    "<li>Left subtree of a node contains only nodes with keys lesser than the node’s key</li>\n",
    "<li>Right subtree of a node contains only nodes with keys greater than the node’s key</li>\n",
    "<li>The left and right subtree each must also be a binary search tree</li>\n",
    "</ol>\n",
    "\n",
    "<b>BST Operations:</b>\n",
    "<ol>\n",
    "<li>Search</li>\n",
    "<li>Insertion </li>\n",
    "<li>Delete </li>\n",
    "</ol>"
   ]
  },
  {
   "cell_type": "code",
   "execution_count": 14,
   "metadata": {},
   "outputs": [],
   "source": [
    "class BST():\n",
    "    def insert(self, root,node): \n",
    "        if root is None: \n",
    "            root = node \n",
    "        else: \n",
    "            if root.val < node.val: \n",
    "                if root.right is None: \n",
    "                    root.right = node \n",
    "                else: \n",
    "                    self.insert(root.right, node) \n",
    "            else: \n",
    "                if root.left is None: \n",
    "                    root.left = node \n",
    "                else: \n",
    "                    self.insert(root.left, node) \n",
    "                    \n",
    "    def search(root,key): \n",
    "      \n",
    "        # Base Cases: root is null or key is present at root \n",
    "        if root is None or root.val == key: \n",
    "            return root \n",
    "\n",
    "        # Key is greater than root's key \n",
    "        if root.val < key: \n",
    "            return search(root.right,key) \n",
    "\n",
    "        # Key is smaller than root's key \n",
    "        return search(root.left,key) \n",
    "    \n",
    "    \n",
    "    def minValueNode( node): \n",
    "        current = node \n",
    "\n",
    "        # loop down to find the leftmost leaf \n",
    "        while(current.left is not None): \n",
    "            current = current.left  \n",
    "  \n",
    "        return current  \n",
    "    \n",
    "    def deleteNode(self, root, key): \n",
    "  \n",
    "        # Base Case \n",
    "        if root is None: \n",
    "            return root  \n",
    "\n",
    "        # If the key to be deleted is smaller than the root's \n",
    "        # key then it lies in  left subtree \n",
    "        if key < root.val: \n",
    "            root.left = self.deleteNode(root.left, key) \n",
    "\n",
    "        # If the kye to be delete is greater than the root's key \n",
    "        # then it lies in right subtree \n",
    "        elif(key > root.val): \n",
    "            root.right = self.deleteNode(root.right, key) \n",
    "\n",
    "        # If key is same as root's key, then this is the node \n",
    "        # to be deleted \n",
    "        else: \n",
    "\n",
    "            # Node with only one child or no child \n",
    "            if root.left is None : \n",
    "                temp = root.right  \n",
    "                root = None \n",
    "                return temp  \n",
    "\n",
    "            elif root.right is None : \n",
    "                temp = root.left  \n",
    "                root = None\n",
    "                return temp \n",
    "\n",
    "            # Node with two children: Get the inorder successor \n",
    "            # (smallest in the right subtree) \n",
    "            temp = minValueNode(root.right) \n",
    "\n",
    "            # Copy the inorder successor's content to this node \n",
    "            root.val = temp.val \n",
    "\n",
    "            # Delete the inorder successor \n",
    "            root.right = self.deleteNode(root.right , temp.val) \n",
    "\n",
    "\n",
    "        return root  "
   ]
  },
  {
   "cell_type": "code",
   "execution_count": 16,
   "metadata": {},
   "outputs": [
    {
     "name": "stdout",
     "output_type": "stream",
     "text": [
      "\n",
      "Inorder traversal\n",
      "2 3 4 5 6 7 8 9 11 12 15 19 \n",
      "Inorder traversal\n",
      "2 3 4 5 6 7 8 9 11 12 15 "
     ]
    }
   ],
   "source": [
    "r = Node(7) \n",
    "bst = BST()\n",
    "bst.insert(r,Node(4)) \n",
    "bst.insert(r,Node(2)) \n",
    "bst.insert(r,Node(6)) \n",
    "bst.insert(r,Node(3)) \n",
    "bst.insert(r,Node(5)) \n",
    "bst.insert(r,Node(12)) \n",
    "bst.insert(r,Node(9))\n",
    "bst.insert(r,Node(19))\n",
    "bst.insert(r,Node(8)) \n",
    "bst.insert(r,Node(11))\n",
    "bst.insert(r,Node(15))\n",
    "print(\"\\nInorder traversal\")\n",
    "traversal.inorder(r)\n",
    "\n",
    "bst.deleteNode(r,19)\n",
    "print(\"\\nInorder traversal\")\n",
    "traversal.inorder(r)"
   ]
  },
  {
   "cell_type": "code",
   "execution_count": null,
   "metadata": {
    "collapsed": true
   },
   "outputs": [],
   "source": []
  }
 ],
 "metadata": {
  "anaconda-cloud": {},
  "kernelspec": {
   "display_name": "Python 3",
   "language": "python",
   "name": "python3"
  },
  "language_info": {
   "codemirror_mode": {
    "name": "ipython",
    "version": 3
   },
   "file_extension": ".py",
   "mimetype": "text/x-python",
   "name": "python",
   "nbconvert_exporter": "python",
   "pygments_lexer": "ipython3",
   "version": "3.8.0"
  }
 },
 "nbformat": 4,
 "nbformat_minor": 2
}
